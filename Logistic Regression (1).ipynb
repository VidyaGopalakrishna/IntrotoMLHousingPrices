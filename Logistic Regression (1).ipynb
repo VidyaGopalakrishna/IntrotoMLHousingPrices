{
 "cells": [
  {
   "cell_type": "code",
   "execution_count": 2,
   "metadata": {},
   "outputs": [],
   "source": [
    "import sklearn\n",
    "from sklearn import linear_model\n",
    "import numpy as np\n",
    "import pandas as pd\n",
    "import math\n",
    "import matplotlib.pyplot as plt\n",
    "from sklearn import preprocessing\n",
    "from sklearn.preprocessing import PolynomialFeatures\n",
    "%matplotlib inline"
   ]
  },
  {
   "cell_type": "code",
   "execution_count": 3,
   "metadata": {},
   "outputs": [],
   "source": [
    "df = pd.read_csv(\"housing_prices.csv\", header=0)\n",
    "df2=df.values\n",
    "\n",
    "X = df2[:, 1:11] #get feature data (10columns)\n",
    "y = df2[:, 12] #get target data (classification 0 or 1)\n",
    "\n",
    "X_scale = preprocessing.StandardScaler()\n",
    "X = X_scale.fit_transform(X) #scale features\n",
    "\n",
    "X_train=X[0:900, :] #About 60 percent training (900/1460)\n",
    "Y_train=y[0:900]\n",
    "X_test=X[900:, :] #About 40 percent testing (560/1460)\n",
    "Y_test=y[900:]"
   ]
  },
  {
   "cell_type": "code",
   "execution_count": 4,
   "metadata": {},
   "outputs": [
    {
     "data": {
      "text/plain": [
       "'X_scale = preprocessing.StandardScaler()\\ny = housing_y\\nX_train, X_test, Y_train, Y_test = train_test_split(housing, y, test_size=0.25, random_state=42)\\nprint(\\n    X_train.shape,\\n    y_train.shape,\\n)'"
      ]
     },
     "execution_count": 4,
     "metadata": {},
     "output_type": "execute_result"
    }
   ],
   "source": [
    "'''X_scale = preprocessing.StandardScaler()\n",
    "y = housing_y\n",
    "X_train, X_test, Y_train, Y_test = train_test_split(housing, y, test_size=0.25, random_state=42)\n",
    "print(\n",
    "    X_train.shape,\n",
    "    y_train.shape,\n",
    ")'''"
   ]
  },
  {
   "cell_type": "code",
   "execution_count": 5,
   "metadata": {
    "scrolled": true
   },
   "outputs": [
    {
     "data": {
      "text/plain": [
       "'housing_log = LogisticRegression()\\nhousing_log.fit(X_train, y_train)\\nprediction = housing_log.predict(X_test)\\nprint(\\n    housing_log.score(X_test,y_test))\\n# Score returns mean accuracy on the given test data and labels'"
      ]
     },
     "execution_count": 5,
     "metadata": {},
     "output_type": "execute_result"
    }
   ],
   "source": [
    "'''housing_log = LogisticRegression()\n",
    "housing_log.fit(X_train, y_train)\n",
    "prediction = housing_log.predict(X_test)\n",
    "print(\n",
    "    housing_log.score(X_test,y_test))\n",
    "# Score returns mean accuracy on the given test data and labels'''"
   ]
  },
  {
   "cell_type": "code",
   "execution_count": 6,
   "metadata": {},
   "outputs": [],
   "source": [
    "c_vals = [0.0001, 0.001,0.01,0.1,1,10]\n",
    "acc_train_logreg = []\n",
    "acc_test_logreg = []\n",
    "c_logreg = []"
   ]
  },
  {
   "cell_type": "markdown",
   "metadata": {},
   "source": [
    "# Lasso Regularization"
   ]
  },
  {
   "cell_type": "code",
   "execution_count": 7,
   "metadata": {
    "scrolled": true
   },
   "outputs": [],
   "source": [
    "\n",
    "def logRegModel(c, X_train, Y_train, X_test, Y_test):\n",
    "    logreg = linear_model.LogisticRegression(C=c, penalty=\"l1\", solver='saga')\n",
    "    logreg = logreg.fit(X_train, Y_train)\n",
    "    train_yhat = logreg.predict(X_train)\n",
    "    acc_train = np.sum(np.where((train_yhat - Y_train) == 0, 1, 0))/Y_train.shape[0]\n",
    "    acc_train_logreg.append(acc_train)\n",
    "    print(\"Accuracy on training data = %f\" % acc_train)\n",
    "    test_yhat = logreg.predict(X_test)\n",
    "    acc_test = np.sum(np.where((test_yhat-Y_test)==0, 1, 0))/Y_test.shape[0]\n",
    "    acc_test_logreg.append(acc_test)\n",
    "    print(\"Accuracy on test data = %f\" % acc_test)\n",
    "    c_logreg.append(c)\n",
    "    "
   ]
  },
  {
   "cell_type": "code",
   "execution_count": 27,
   "metadata": {},
   "outputs": [
    {
     "name": "stdout",
     "output_type": "stream",
     "text": [
      "Accuracy on training data = 0.832222\n",
      "Accuracy on test data = 0.858929\n",
      "Accuracy on training data = 0.832222\n",
      "Accuracy on test data = 0.858929\n",
      "Accuracy on training data = 0.843333\n",
      "Accuracy on test data = 0.869643\n",
      "Accuracy on training data = 0.936667\n",
      "Accuracy on test data = 0.923214\n",
      "Accuracy on training data = 0.936667\n",
      "Accuracy on test data = 0.932143\n",
      "Accuracy on training data = 0.936667\n",
      "Accuracy on test data = 0.932143\n"
     ]
    },
    {
     "name": "stderr",
     "output_type": "stream",
     "text": [
      "/Users/vidyagopal/opt/anaconda3/lib/python3.8/site-packages/sklearn/linear_model/_sag.py:329: ConvergenceWarning: The max_iter was reached which means the coef_ did not converge\n",
      "  warnings.warn(\"The max_iter was reached which means \"\n",
      "/Users/vidyagopal/opt/anaconda3/lib/python3.8/site-packages/sklearn/linear_model/_sag.py:329: ConvergenceWarning: The max_iter was reached which means the coef_ did not converge\n",
      "  warnings.warn(\"The max_iter was reached which means \"\n",
      "/Users/vidyagopal/opt/anaconda3/lib/python3.8/site-packages/sklearn/linear_model/_sag.py:329: ConvergenceWarning: The max_iter was reached which means the coef_ did not converge\n",
      "  warnings.warn(\"The max_iter was reached which means \"\n"
     ]
    },
    {
     "data": {
      "text/plain": [
       "Text(0.5, 0, 'C Value')"
      ]
     },
     "execution_count": 27,
     "metadata": {},
     "output_type": "execute_result"
    },
    {
     "data": {
      "image/png": "[encoded data removed]",
      "text/plain": [
       "<Figure size 432x288 with 1 Axes>"
      ]
     },
     "metadata": {
      "needs_background": "light"
     },
     "output_type": "display_data"
    }
   ],
   "source": [
    "acc_train_logreg = [] \n",
    "acc_test_logreg = [] \n",
    "c_logreg=[]\n",
    "cVals = [0.0001, 0.001, 0.01, 0.1, 1, 10]\n",
    "for c in cVals:\n",
    "    logRegModel(c, X_train, Y_train, X_test, Y_test)\n",
    "plt.plot(c_logreg, acc_train_logreg)\n",
    "plt.plot(c_logreg, acc_test_logreg)\n",
    "plt.legend(['Training Accuracy', 'Test Accuracy'], loc='lower right')\n",
    "plt.title(\"Logistic Regression with Lasso Regularization vs C value\")\n",
    "plt.ylabel(\"Accuracy Score\")\n",
    "plt.xlabel(\"C Value\")"
   ]
  },
  {
   "cell_type": "markdown",
   "metadata": {},
   "source": [
    "# Ridge Regularization"
   ]
  },
  {
   "cell_type": "code",
   "execution_count": 10,
   "metadata": {},
   "outputs": [],
   "source": [
    "acc_train_logreg_ridge = []\n",
    "acc_test_logreg_ridge = []\n",
    "c_logreg_ridge = []"
   ]
  },
  {
   "cell_type": "code",
   "execution_count": 11,
   "metadata": {},
   "outputs": [],
   "source": [
    "def logreg_model_ridge(c , X_train, Y_train, X_test, Y_test):\n",
    "    logreg_ridge = linear_model.LogisticRegression(C=c)\n",
    "    logreg_ridge=logreg_ridge.fit(X_train, Y_train)\n",
    "    train_yhat = logreg_ridge.predict(X_train)\n",
    "    acc_train = np.sum(np.where((train_yhat-Y_train)==0, 1, 0))/Y_train.shape[0]\n",
    "    acc_train_logreg_ridge.append(acc_train)\n",
    "    print(\"Accuracy on training data = %f\" % acc_train)\n",
    "    test_yhat = logreg_ridge.predict(X_test)\n",
    "    acc_test = np.sum(np.where((test_yhat-Y_test)==0, 1, 0))/Y_test.shape[0]\n",
    "    acc_test_logreg_ridge.append(acc_test)\n",
    "    print(\"Accuracy on test data = %f\" % acc_test)\n",
    "    c_logreg_ridge.append(c)\n"
   ]
  },
  {
   "cell_type": "code",
   "execution_count": 26,
   "metadata": {},
   "outputs": [
    {
     "name": "stdout",
     "output_type": "stream",
     "text": [
      "Accuracy on training data = 0.832222\n",
      "Accuracy on test data = 0.858929\n",
      "Accuracy on training data = 0.832222\n",
      "Accuracy on test data = 0.858929\n",
      "Accuracy on training data = 0.918889\n",
      "Accuracy on test data = 0.919643\n",
      "Accuracy on training data = 0.933333\n",
      "Accuracy on test data = 0.926786\n",
      "Accuracy on training data = 0.936667\n",
      "Accuracy on test data = 0.930357\n",
      "Accuracy on training data = 0.936667\n",
      "Accuracy on test data = 0.932143\n"
     ]
    },
    {
     "data": {
      "text/plain": [
       "Text(0.5, 0, 'C Value')"
      ]
     },
     "execution_count": 26,
     "metadata": {},
     "output_type": "execute_result"
    },
    {
     "data": {
      "image/png": "[encoded data removed]",
      "text/plain": [
       "<Figure size 432x288 with 1 Axes>"
      ]
     },
     "metadata": {
      "needs_background": "light"
     },
     "output_type": "display_data"
    }
   ],
   "source": [
    "acc_train_logreg_ridge = [] \n",
    "acc_test_logreg_ridge = [] \n",
    "c_logreg_ridge=[]\n",
    "\n",
    "for c in cVals:\n",
    "    logreg_model_ridge(c, X_train, Y_train, X_test, Y_test)\n",
    "plt.plot(c_logreg_ridge, acc_train_logreg_ridge)\n",
    "plt.plot(c_logreg_ridge, acc_test_logreg_ridge)\n",
    "\n",
    "# Use the following function to have a legend\n",
    "plt.legend(['Training Accuracy', 'Test Accuracy'])\n",
    "plt.title(\"Logistic Regression with Ridge Regularization vs C value\")\n",
    "plt.ylabel(\"Accuracy Score\")\n",
    "plt.xlabel(\"C Value\")"
   ]
  },
  {
   "cell_type": "markdown",
   "metadata": {},
   "source": [
    "# Polynomial Feature Transformation"
   ]
  },
  {
   "cell_type": "code",
   "execution_count": 15,
   "metadata": {},
   "outputs": [],
   "source": [
    "poly = PolynomialFeatures(2)\n",
    "Xtrain_transformed = poly.fit_transform(X_train)\n",
    "Xtest_transformed = poly.fit_transform(X_test)"
   ]
  },
  {
   "cell_type": "code",
   "execution_count": 25,
   "metadata": {},
   "outputs": [
    {
     "name": "stdout",
     "output_type": "stream",
     "text": [
      "Accuracy on training data = 0.832222\n",
      "Accuracy on test data = 0.858929\n",
      "Accuracy on training data = 0.832222\n",
      "Accuracy on test data = 0.858929\n",
      "Accuracy on training data = 0.835556\n",
      "Accuracy on test data = 0.858929\n",
      "Accuracy on training data = 0.834444\n",
      "Accuracy on test data = 0.858929\n"
     ]
    },
    {
     "name": "stderr",
     "output_type": "stream",
     "text": [
      "/Users/vidyagopal/opt/anaconda3/lib/python3.8/site-packages/sklearn/linear_model/_sag.py:329: ConvergenceWarning: The max_iter was reached which means the coef_ did not converge\n",
      "  warnings.warn(\"The max_iter was reached which means \"\n",
      "/Users/vidyagopal/opt/anaconda3/lib/python3.8/site-packages/sklearn/linear_model/_sag.py:329: ConvergenceWarning: The max_iter was reached which means the coef_ did not converge\n",
      "  warnings.warn(\"The max_iter was reached which means \"\n",
      "/Users/vidyagopal/opt/anaconda3/lib/python3.8/site-packages/sklearn/linear_model/_sag.py:329: ConvergenceWarning: The max_iter was reached which means the coef_ did not converge\n",
      "  warnings.warn(\"The max_iter was reached which means \"\n",
      "/Users/vidyagopal/opt/anaconda3/lib/python3.8/site-packages/sklearn/linear_model/_sag.py:329: ConvergenceWarning: The max_iter was reached which means the coef_ did not converge\n",
      "  warnings.warn(\"The max_iter was reached which means \"\n"
     ]
    },
    {
     "name": "stdout",
     "output_type": "stream",
     "text": [
      "Accuracy on training data = 0.835556\n",
      "Accuracy on test data = 0.858929\n",
      "Accuracy on training data = 0.835556\n",
      "Accuracy on test data = 0.858929\n"
     ]
    },
    {
     "data": {
      "text/plain": [
       "Text(0.5, 0, 'C Value')"
      ]
     },
     "execution_count": 25,
     "metadata": {},
     "output_type": "execute_result"
    },
    {
     "data": {
      "image/png": "[encoded data removed]",
      "text/plain": [
       "<Figure size 432x288 with 1 Axes>"
      ]
     },
     "metadata": {
      "needs_background": "light"
     },
     "output_type": "display_data"
    }
   ],
   "source": [
    "acc_train_logreg = []\n",
    "acc_test_logreg = []\n",
    "c_logreg = []\n",
    "\n",
    "#test with Lasso Logreg Function\n",
    "for c in cVals:\n",
    "    logRegModel(c, Xtrain_transformed, Y_train, Xtest_transformed, Y_test)\n",
    "    \n",
    "plt.plot(c_logreg, acc_train_logreg)\n",
    "plt.plot(c_logreg, acc_test_logreg)\n",
    "plt.legend(['Training Accuracy', 'Test Accuracy'])\n",
    "plt.title(\"Logistic Regression with Lasso Regularization and Polynomial Feature Transformation vs C value\")\n",
    "plt.ylabel(\"Accuracy Score\")\n",
    "plt.xlabel(\"C Value\")"
   ]
  },
  {
   "cell_type": "code",
   "execution_count": 24,
   "metadata": {
    "scrolled": true
   },
   "outputs": [
    {
     "name": "stdout",
     "output_type": "stream",
     "text": [
      "Accuracy on training data = 0.832222\n",
      "Accuracy on test data = 0.857143\n",
      "Accuracy on training data = 0.873333\n",
      "Accuracy on test data = 0.873214\n",
      "Accuracy on training data = 0.934444\n",
      "Accuracy on test data = 0.925000\n",
      "Accuracy on training data = 0.946667\n",
      "Accuracy on test data = 0.921429\n",
      "Accuracy on training data = 0.953333\n",
      "Accuracy on test data = 0.925000\n",
      "Accuracy on training data = 0.957778\n",
      "Accuracy on test data = 0.928571\n"
     ]
    },
    {
     "name": "stderr",
     "output_type": "stream",
     "text": [
      "/Users/vidyagopal/opt/anaconda3/lib/python3.8/site-packages/sklearn/linear_model/_logistic.py:762: ConvergenceWarning: lbfgs failed to converge (status=1):\n",
      "STOP: TOTAL NO. of ITERATIONS REACHED LIMIT.\n",
      "\n",
      "Increase the number of iterations (max_iter) or scale the data as shown in:\n",
      "    https://scikit-learn.org/stable/modules/preprocessing.html\n",
      "Please also refer to the documentation for alternative solver options:\n",
      "    https://scikit-learn.org/stable/modules/linear_model.html#logistic-regression\n",
      "  n_iter_i = _check_optimize_result(\n",
      "/Users/vidyagopal/opt/anaconda3/lib/python3.8/site-packages/sklearn/linear_model/_logistic.py:762: ConvergenceWarning: lbfgs failed to converge (status=1):\n",
      "STOP: TOTAL NO. of ITERATIONS REACHED LIMIT.\n",
      "\n",
      "Increase the number of iterations (max_iter) or scale the data as shown in:\n",
      "    https://scikit-learn.org/stable/modules/preprocessing.html\n",
      "Please also refer to the documentation for alternative solver options:\n",
      "    https://scikit-learn.org/stable/modules/linear_model.html#logistic-regression\n",
      "  n_iter_i = _check_optimize_result(\n",
      "/Users/vidyagopal/opt/anaconda3/lib/python3.8/site-packages/sklearn/linear_model/_logistic.py:762: ConvergenceWarning: lbfgs failed to converge (status=1):\n",
      "STOP: TOTAL NO. of ITERATIONS REACHED LIMIT.\n",
      "\n",
      "Increase the number of iterations (max_iter) or scale the data as shown in:\n",
      "    https://scikit-learn.org/stable/modules/preprocessing.html\n",
      "Please also refer to the documentation for alternative solver options:\n",
      "    https://scikit-learn.org/stable/modules/linear_model.html#logistic-regression\n",
      "  n_iter_i = _check_optimize_result(\n"
     ]
    },
    {
     "data": {
      "text/plain": [
       "Text(0.5, 0, 'C Value')"
      ]
     },
     "execution_count": 24,
     "metadata": {},
     "output_type": "execute_result"
    },
    {
     "data": {
      "image/png": "[encoded data removed]",
      "text/plain": [
       "<Figure size 432x288 with 1 Axes>"
      ]
     },
     "metadata": {
      "needs_background": "light"
     },
     "output_type": "display_data"
    }
   ],
   "source": [
    "acc_train_logreg_ridge = []\n",
    "acc_test_logreg_ridge = []\n",
    "c_logreg_ridge = []\n",
    "\n",
    "#Call the function for ridge model\n",
    "for c in cVals:\n",
    "    logreg_model_ridge(c, Xtrain_transformed, Y_train, Xtest_transformed, Y_test)\n",
    "    \n",
    "#plot training and testing accuracy\n",
    "plt.plot(c_logreg_ridge, acc_train_logreg_ridge)\n",
    "plt.plot(c_logreg_ridge, acc_test_logreg_ridge)\n",
    "plt.legend(['Training Accuracy', 'Test Accuracy'])\n",
    "plt.title(\"Logistic Regression with Ridge Regularization and Polynomial Feature Transformation vs C value\")\n",
    "plt.ylabel(\"Accuracy Score\")\n",
    "plt.xlabel(\"C Value\")"
   ]
  },
  {
   "cell_type": "code",
   "execution_count": 17,
   "metadata": {},
   "outputs": [],
   "source": [
    "#training/testing accuracy"
   ]
  },
  {
   "cell_type": "code",
   "execution_count": null,
   "metadata": {},
   "outputs": [],
   "source": [
    "#training high, testing low = overfit\n",
    "#currently low bias, high variance\n",
    "#because of the high accuracy within the data points, we believe that the best model for our dataset is the Tanh Activation Function."
   ]
  }
 ],
 "metadata": {
  "kernelspec": {
   "display_name": "Python 3",
   "language": "python",
   "name": "python3"
  },
  "language_info": {
   "codemirror_mode": {
    "name": "ipython",
    "version": 3
   },
   "file_extension": ".py",
   "mimetype": "text/x-python",
   "name": "python",
   "nbconvert_exporter": "python",
   "pygments_lexer": "ipython3",
   "version": "3.8.5"
  }
 },
 "nbformat": 4,
 "nbformat_minor": 4
}
