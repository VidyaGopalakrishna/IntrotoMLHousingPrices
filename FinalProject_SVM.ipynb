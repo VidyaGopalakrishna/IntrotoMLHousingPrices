{
 "cells": [
  {
   "cell_type": "code",
   "execution_count": 35,
   "metadata": {},
   "outputs": [],
   "source": [
    "import numpy as np\n",
    "import pandas as pd\n",
    "import matplotlib.pyplot as plt\n",
    "from sklearn import svm\n",
    "%matplotlib inline\n",
    "\n",
    "df = pd.read_csv(\"housing_prices.csv\", header=0)\n",
    "df2=df.values\n",
    "\n",
    "X = df2[:, 1:11] #get feature data (10columns)\n",
    "y = df2[:, 12] #get target data (classification 0 or 1)\n",
    "\n",
    "\n",
    "X_train=X[0:900, :] #About 60 percent training (900/1460)\n",
    "y_train=y[0:900]\n",
    "X_test=X[900:, :] #About 40 percent testing (560/1460)\n",
    "y_test=y[900:]\n",
    "\n",
    "#Code below edited from Homework 5\n",
    "def svm_calc(c, kernel): #find parameters and accuracy for SVM\n",
    "    if kernel=='linear':\n",
    "        svc = svm.SVC(probability=False, kernel='linear', C=c) #run linear kernel\n",
    "    if kernel=='rbf':\n",
    "        svc = svm.SVC(probability=False, kernel='rbf', C=c) #run rbf kernel\n",
    "    if kernel=='poly':\n",
    "        svc = svm.SVC(probability=False, kernel='poly', C=c) #run poly kernel\n",
    "    \n",
    "    svc=svc.fit(X_train, y_train) #fit training data to svm\n",
    "    \n",
    "    Yhat_svc_train = svc.predict(X_train) #predict y values from training data\n",
    "    acc_train = np.sum(np.where((Yhat_svc_train == y_train), 1, 0))/X_train.shape[0] #calc training accuracy\n",
    "    \n",
    "    train_acc_svm.append(acc_train) #append training accuracy to list for graphing\n",
    "    print('Train Accuracy = {0:f}'.format(acc_train))\n",
    "    \n",
    "    Yhat_svc_test = svc.predict(X_test) #predict y values from test data\n",
    "    acc_test = np.sum(np.where((Yhat_svc_test == y_test), 1, 0))/X_test.shape[0] #calc test accuracy\n",
    "    \n",
    "    test_acc_svm.append(acc_test) #append training accuracy to list for graphing\n",
    "    print('Test Accuracy = {0:f}'.format(acc_test))\n",
    "    \n",
    "    c_svm.append(c)\n",
    "    \n"
   ]
  },
  {
   "cell_type": "code",
   "execution_count": 51,
   "metadata": {},
   "outputs": [
    {
     "name": "stdout",
     "output_type": "stream",
     "text": [
      "Train Accuracy = 0.833333\n",
      "Test Accuracy = 0.858929\n",
      "Train Accuracy = 0.833333\n",
      "Test Accuracy = 0.858929\n",
      "Train Accuracy = 0.834444\n",
      "Test Accuracy = 0.857143\n",
      "Train Accuracy = 0.835556\n",
      "Test Accuracy = 0.857143\n",
      "Train Accuracy = 0.837778\n",
      "Test Accuracy = 0.858929\n",
      "Train Accuracy = 0.863333\n",
      "Test Accuracy = 0.873214\n",
      "Train Accuracy = 0.920000\n",
      "Test Accuracy = 0.919643\n",
      "Train Accuracy = 0.930000\n",
      "Test Accuracy = 0.923214\n"
     ]
    },
    {
     "data": {
      "text/plain": [
       "<matplotlib.legend.Legend at 0x1bdaa8e4f70>"
      ]
     },
     "execution_count": 51,
     "metadata": {},
     "output_type": "execute_result"
    },
    {
     "data": {
      "image/png": "[encoded data removed]",
      "text/plain": [
       "<Figure size 432x288 with 1 Axes>"
      ]
     },
     "metadata": {
      "needs_background": "light"
     },
     "output_type": "display_data"
    }
   ],
   "source": [
    "train_acc_svm = [] #initialize lists\n",
    "test_acc_svm = []\n",
    "c_svm = []\n",
    "\n",
    "cVals=[.0001, .001, .01, .1, 1, 10, 100, 500] #different C values to test\n",
    "\n",
    "for c in cVals:\n",
    "    svm_calc(c, 'poly') #change second term to run linear, rbf, or poly kernel\n",
    "\n",
    "plt.plot(c_svm, train_acc_svm) #plot training accuracy\n",
    "plt.plot(c_svm, test_acc_svm) #plot testing accuracy\n",
    "\n",
    "plt.title('SVM Poly Accuracy vs C value')\n",
    "plt.legend(['Training Accuracy', 'Test Accuracy'], loc='lower right') #add legend"
   ]
  },
  {
   "cell_type": "code",
   "execution_count": null,
   "metadata": {},
   "outputs": [],
   "source": []
  }
 ],
 "metadata": {
  "kernelspec": {
   "display_name": "Python 3",
   "language": "python",
   "name": "python3"
  },
  "language_info": {
   "codemirror_mode": {
    "name": "ipython",
    "version": 3
   },
   "file_extension": ".py",
   "mimetype": "text/x-python",
   "name": "python",
   "nbconvert_exporter": "python",
   "pygments_lexer": "ipython3",
   "version": "3.8.5"
  }
 },
 "nbformat": 4,
 "nbformat_minor": 4
}
